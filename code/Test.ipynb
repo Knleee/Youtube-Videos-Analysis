{
 "cells": [
  {
   "cell_type": "code",
   "execution_count": 15,
   "id": "c2fd2c42-1d7a-4bbd-bb90-843296b6a463",
   "metadata": {},
   "outputs": [],
   "source": [
    "import scrapetube\n",
    "import pprint"
   ]
  },
  {
   "cell_type": "code",
   "execution_count": 77,
   "id": "11e036b5-bcfb-49d5-acc3-4ae954789918",
   "metadata": {},
   "outputs": [
    {
     "name": "stdout",
     "output_type": "stream",
     "text": [
      "[{'text': 'Wonders of Italy | The Most Fascinating Places in Italy | '}, {'text': 'Travel Video', 'bold': True}, {'text': \" 4K Subscribe to the channel here, it's free but means a lot to\\xa0...\"}]\n",
      "Wonders of Italy | The Most Fascinating Places in Italy | Travel Video 4K Subscribe to the channel here, it's free but means a lot to ...\n",
      "9J7_NqgJSq8\n"
     ]
    }
   ],
   "source": [
    "response = scrapetube.get_search(query=\"travel vlog\", limit=1)\n",
    "for item in response:\n",
    "    if item['detailedMetadataSnippets']:\n",
    "        desc = item['detailedMetadataSnippets'][0]['snippetText']['runs']\n",
    "        print(desc)\n",
    "        text = ''\n",
    "        for i in desc:\n",
    "            text += i['text']\n",
    "        print(text)\n",
    "        \n",
    "    print(item['videoId'])"
   ]
  },
  {
   "cell_type": "code",
   "execution_count": null,
   "id": "1e24fb22-2c7d-4d31-b935-a9e2873031c4",
   "metadata": {},
   "outputs": [],
   "source": []
  }
 ],
 "metadata": {
  "kernelspec": {
   "display_name": "Python 3 (ipykernel)",
   "language": "python",
   "name": "python3"
  },
  "language_info": {
   "codemirror_mode": {
    "name": "ipython",
    "version": 3
   },
   "file_extension": ".py",
   "mimetype": "text/x-python",
   "name": "python",
   "nbconvert_exporter": "python",
   "pygments_lexer": "ipython3",
   "version": "3.11.7"
  }
 },
 "nbformat": 4,
 "nbformat_minor": 5
}
